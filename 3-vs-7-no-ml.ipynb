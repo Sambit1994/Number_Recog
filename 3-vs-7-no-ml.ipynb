{
 "cells": [
  {
   "cell_type": "markdown",
   "id": "8a3e675d",
   "metadata": {
    "papermill": {
     "duration": 0.006343,
     "end_time": "2025-07-31T10:17:54.473005",
     "exception": false,
     "start_time": "2025-07-31T10:17:54.466662",
     "status": "completed"
    },
    "tags": []
   },
   "source": [
    "The script follows Chapter-4 of the book \"Deep Learning for Coders with fastai and PyTorch\"  "
   ]
  },
  {
   "cell_type": "code",
   "execution_count": 1,
   "id": "30a2fe6f",
   "metadata": {
    "_cell_guid": "b1076dfc-b9ad-4769-8c92-a6c4dae69d19",
    "_uuid": "8f2839f25d086af736a60e9eeb907d3b93b6e0e5",
    "execution": {
     "iopub.execute_input": "2025-07-31T10:17:54.485361Z",
     "iopub.status.busy": "2025-07-31T10:17:54.484970Z",
     "iopub.status.idle": "2025-07-31T10:17:56.543738Z",
     "shell.execute_reply": "2025-07-31T10:17:56.542381Z"
    },
    "papermill": {
     "duration": 2.067034,
     "end_time": "2025-07-31T10:17:56.545608",
     "exception": false,
     "start_time": "2025-07-31T10:17:54.478574",
     "status": "completed"
    },
    "tags": []
   },
   "outputs": [],
   "source": [
    "# This Python 3 environment comes with many helpful analytics libraries installed\n",
    "# It is defined by the kaggle/python Docker image: https://github.com/kaggle/docker-python\n",
    "# For example, here's several helpful packages to load\n",
    "\n",
    "import numpy as np # linear algebra\n",
    "import pandas as pd # data processing, CSV file I/O (e.g. pd.read_csv)\n",
    "\n",
    "# Input data files are available in the read-only \"../input/\" directory\n",
    "# For example, running this (by clicking run or pressing Shift+Enter) will list all files under the input directory\n",
    "\n",
    "import os\n",
    "for dirname, _, filenames in os.walk('/kaggle/input'):\n",
    "    for filename in filenames:\n",
    "        print(os.path.join(dirname, filename))\n",
    "\n",
    "# You can write up to 20GB to the current directory (/kaggle/working/) that gets preserved as output when you create a version using \"Save & Run All\" \n",
    "# You can also write temporary files to /kaggle/temp/, but they won't be saved outside of the current session"
   ]
  },
  {
   "cell_type": "code",
   "execution_count": 2,
   "id": "2748d13d",
   "metadata": {
    "execution": {
     "iopub.execute_input": "2025-07-31T10:17:56.558310Z",
     "iopub.status.busy": "2025-07-31T10:17:56.557829Z",
     "iopub.status.idle": "2025-07-31T10:18:15.797036Z",
     "shell.execute_reply": "2025-07-31T10:18:15.795919Z"
    },
    "papermill": {
     "duration": 19.247766,
     "end_time": "2025-07-31T10:18:15.798954",
     "exception": false,
     "start_time": "2025-07-31T10:17:56.551188",
     "status": "completed"
    },
    "tags": []
   },
   "outputs": [],
   "source": [
    "from fastai.vision.all import *"
   ]
  },
  {
   "cell_type": "markdown",
   "id": "f2aa5af5",
   "metadata": {
    "papermill": {
     "duration": 0.005111,
     "end_time": "2025-07-31T10:18:15.809782",
     "exception": false,
     "start_time": "2025-07-31T10:18:15.804671",
     "status": "completed"
    },
    "tags": []
   },
   "source": [
    "Collecting a sample dataset from MNIST for image(number) recognition"
   ]
  },
  {
   "cell_type": "code",
   "execution_count": 3,
   "id": "3dd2b7ef",
   "metadata": {
    "execution": {
     "iopub.execute_input": "2025-07-31T10:18:15.821806Z",
     "iopub.status.busy": "2025-07-31T10:18:15.821461Z",
     "iopub.status.idle": "2025-07-31T10:18:19.943096Z",
     "shell.execute_reply": "2025-07-31T10:18:19.942153Z"
    },
    "papermill": {
     "duration": 4.129981,
     "end_time": "2025-07-31T10:18:19.944933",
     "exception": false,
     "start_time": "2025-07-31T10:18:15.814952",
     "status": "completed"
    },
    "tags": []
   },
   "outputs": [
    {
     "data": {
      "text/html": [
       "\n",
       "<style>\n",
       "    /* Turns off some styling */\n",
       "    progress {\n",
       "        /* gets rid of default border in Firefox and Opera. */\n",
       "        border: none;\n",
       "        /* Needs to be in here for Safari polyfill so background images work as expected. */\n",
       "        background-size: auto;\n",
       "    }\n",
       "    progress:not([value]), progress:not([value])::-webkit-progress-bar {\n",
       "        background: repeating-linear-gradient(45deg, #7e7e7e, #7e7e7e 10px, #5c5c5c 10px, #5c5c5c 20px);\n",
       "    }\n",
       "    .progress-bar-interrupted, .progress-bar-interrupted::-webkit-progress-bar {\n",
       "        background: #F44336;\n",
       "    }\n",
       "</style>\n"
      ],
      "text/plain": [
       "<IPython.core.display.HTML object>"
      ]
     },
     "metadata": {},
     "output_type": "display_data"
    },
    {
     "data": {
      "text/html": [
       "\n",
       "    <div>\n",
       "      <progress value='3219456' class='' max='3214948' style='width:300px; height:20px; vertical-align: middle;'></progress>\n",
       "      100.14% [3219456/3214948 00:00&lt;00:00]\n",
       "    </div>\n",
       "    "
      ],
      "text/plain": [
       "<IPython.core.display.HTML object>"
      ]
     },
     "metadata": {},
     "output_type": "display_data"
    }
   ],
   "source": [
    "path = untar_data(URLs.MNIST_SAMPLE)"
   ]
  },
  {
   "cell_type": "code",
   "execution_count": 4,
   "id": "25ab4ecf",
   "metadata": {
    "execution": {
     "iopub.execute_input": "2025-07-31T10:18:19.958170Z",
     "iopub.status.busy": "2025-07-31T10:18:19.957842Z",
     "iopub.status.idle": "2025-07-31T10:18:19.964153Z",
     "shell.execute_reply": "2025-07-31T10:18:19.963259Z"
    },
    "papermill": {
     "duration": 0.014733,
     "end_time": "2025-07-31T10:18:19.965641",
     "exception": false,
     "start_time": "2025-07-31T10:18:19.950908",
     "status": "completed"
    },
    "tags": []
   },
   "outputs": [
    {
     "data": {
      "text/plain": [
       "(#3) [Path('/root/.fastai/data/mnist_sample/valid'),Path('/root/.fastai/data/mnist_sample/labels.csv'),Path('/root/.fastai/data/mnist_sample/train')]"
      ]
     },
     "execution_count": 4,
     "metadata": {},
     "output_type": "execute_result"
    }
   ],
   "source": [
    "path.ls()"
   ]
  },
  {
   "cell_type": "markdown",
   "id": "0f34094f",
   "metadata": {
    "papermill": {
     "duration": 0.006315,
     "end_time": "2025-07-31T10:18:19.977952",
     "exception": false,
     "start_time": "2025-07-31T10:18:19.971637",
     "status": "completed"
    },
    "tags": []
   },
   "source": [
    "Both the train and valid sets contain a collection of images for number 3 and 7\n",
    "\n",
    "The ls function also gives the numer of files as (#n) at the beginning"
   ]
  },
  {
   "cell_type": "code",
   "execution_count": 5,
   "id": "3ad28328",
   "metadata": {
    "execution": {
     "iopub.execute_input": "2025-07-31T10:18:19.990904Z",
     "iopub.status.busy": "2025-07-31T10:18:19.990209Z",
     "iopub.status.idle": "2025-07-31T10:18:19.996756Z",
     "shell.execute_reply": "2025-07-31T10:18:19.995785Z"
    },
    "papermill": {
     "duration": 0.014748,
     "end_time": "2025-07-31T10:18:19.998311",
     "exception": false,
     "start_time": "2025-07-31T10:18:19.983563",
     "status": "completed"
    },
    "tags": []
   },
   "outputs": [
    {
     "data": {
      "text/plain": [
       "(#2) [Path('/root/.fastai/data/mnist_sample/train/7'),Path('/root/.fastai/data/mnist_sample/train/3')]"
      ]
     },
     "execution_count": 5,
     "metadata": {},
     "output_type": "execute_result"
    }
   ],
   "source": [
    "#(path/'valid').ls()\n",
    "(path/'train').ls()"
   ]
  },
  {
   "cell_type": "code",
   "execution_count": 6,
   "id": "7cdafe6d",
   "metadata": {
    "execution": {
     "iopub.execute_input": "2025-07-31T10:18:20.011707Z",
     "iopub.status.busy": "2025-07-31T10:18:20.010770Z",
     "iopub.status.idle": "2025-07-31T10:18:20.099266Z",
     "shell.execute_reply": "2025-07-31T10:18:20.098321Z"
    },
    "papermill": {
     "duration": 0.096597,
     "end_time": "2025-07-31T10:18:20.100911",
     "exception": false,
     "start_time": "2025-07-31T10:18:20.004314",
     "status": "completed"
    },
    "tags": []
   },
   "outputs": [
    {
     "data": {
      "text/plain": [
       "(#6131) [Path('/root/.fastai/data/mnist_sample/train/3/10.png'),Path('/root/.fastai/data/mnist_sample/train/3/10000.png'),Path('/root/.fastai/data/mnist_sample/train/3/10011.png'),Path('/root/.fastai/data/mnist_sample/train/3/10031.png'),Path('/root/.fastai/data/mnist_sample/train/3/10034.png'),Path('/root/.fastai/data/mnist_sample/train/3/10042.png'),Path('/root/.fastai/data/mnist_sample/train/3/10052.png'),Path('/root/.fastai/data/mnist_sample/train/3/1007.png'),Path('/root/.fastai/data/mnist_sample/train/3/10074.png'),Path('/root/.fastai/data/mnist_sample/train/3/10091.png'),Path('/root/.fastai/data/mnist_sample/train/3/10093.png'),Path('/root/.fastai/data/mnist_sample/train/3/10097.png'),Path('/root/.fastai/data/mnist_sample/train/3/10099.png'),Path('/root/.fastai/data/mnist_sample/train/3/10116.png'),Path('/root/.fastai/data/mnist_sample/train/3/10125.png'),Path('/root/.fastai/data/mnist_sample/train/3/10137.png'),Path('/root/.fastai/data/mnist_sample/train/3/10141.png'),Path('/root/.fastai/data/mnist_sample/train/3/10144.png'),Path('/root/.fastai/data/mnist_sample/train/3/10155.png'),Path('/root/.fastai/data/mnist_sample/train/3/10161.png')...]"
      ]
     },
     "execution_count": 6,
     "metadata": {},
     "output_type": "execute_result"
    }
   ],
   "source": [
    "threes = (path/'train'/'3').ls().sorted()\n",
    "sevens = (path/'train'/'7').ls().sorted()\n",
    "threes"
   ]
  },
  {
   "cell_type": "code",
   "execution_count": 7,
   "id": "2aa0c254",
   "metadata": {
    "execution": {
     "iopub.execute_input": "2025-07-31T10:18:20.114308Z",
     "iopub.status.busy": "2025-07-31T10:18:20.113890Z",
     "iopub.status.idle": "2025-07-31T10:18:20.164950Z",
     "shell.execute_reply": "2025-07-31T10:18:20.163878Z"
    },
    "papermill": {
     "duration": 0.059602,
     "end_time": "2025-07-31T10:18:20.166684",
     "exception": false,
     "start_time": "2025-07-31T10:18:20.107082",
     "status": "completed"
    },
    "tags": []
   },
   "outputs": [
    {
     "data": {
      "image/jpeg": "[encoded data removed]",
      "image/png": "[encoded data removed]",
      "text/plain": [
       "<PIL.PngImagePlugin.PngImageFile image mode=L size=28x28>"
      ]
     },
     "execution_count": 7,
     "metadata": {},
     "output_type": "execute_result"
    }
   ],
   "source": [
    "im3_path = threes[20]\n",
    "im3 = Image.open(im3_path)\n",
    "im3"
   ]
  },
  {
   "cell_type": "code",
   "execution_count": 8,
   "id": "e5989b89",
   "metadata": {
    "execution": {
     "iopub.execute_input": "2025-07-31T10:18:20.180530Z",
     "iopub.status.busy": "2025-07-31T10:18:20.179831Z",
     "iopub.status.idle": "2025-07-31T10:18:20.201238Z",
     "shell.execute_reply": "2025-07-31T10:18:20.200309Z"
    },
    "papermill": {
     "duration": 0.030106,
     "end_time": "2025-07-31T10:18:20.202907",
     "exception": false,
     "start_time": "2025-07-31T10:18:20.172801",
     "status": "completed"
    },
    "tags": []
   },
   "outputs": [
    {
     "data": {
      "text/plain": [
       "tensor([[  0,  88, 222, 254, 254, 254, 254, 171,  36,   0],\n",
       "        [131, 246, 254, 254, 254, 254, 227,  29,   0,   0],\n",
       "        [245, 254, 254, 254, 254, 200,  66,   0,   0,   0],\n",
       "        [245, 254, 254, 254, 254, 249, 245, 240, 176, 144],\n",
       "        [158, 251, 254, 254, 254, 254, 254, 254, 254, 254],\n",
       "        [  0, 112, 177, 220, 254, 254, 254, 254, 254, 254],\n",
       "        [  0,   0,   0,  11,  19,  48,  99,  95, 206, 254],\n",
       "        [  0,   0,   0,   0,   0,   0,   0,   5, 171, 254],\n",
       "        [  0,   0,   0,   0,   0,   0,  40, 147, 254, 254],\n",
       "        [ 16,  33,  39,  32,  74, 200, 243, 254, 254, 254]], dtype=torch.uint8)"
      ]
     },
     "execution_count": 8,
     "metadata": {},
     "output_type": "execute_result"
    }
   ],
   "source": [
    "#array(im3)[10:20, 10:20] --> gives the same\n",
    "\n",
    "#im3.shape --> 28*28\n",
    "tensor(im3)[10:20, 10:20]\n"
   ]
  },
  {
   "cell_type": "code",
   "execution_count": 9,
   "id": "9e9be2fd",
   "metadata": {
    "execution": {
     "iopub.execute_input": "2025-07-31T10:18:20.216579Z",
     "iopub.status.busy": "2025-07-31T10:18:20.216217Z",
     "iopub.status.idle": "2025-07-31T10:18:20.224441Z",
     "shell.execute_reply": "2025-07-31T10:18:20.223480Z"
    },
    "papermill": {
     "duration": 0.01671,
     "end_time": "2025-07-31T10:18:20.225849",
     "exception": false,
     "start_time": "2025-07-31T10:18:20.209139",
     "status": "completed"
    },
    "tags": []
   },
   "outputs": [
    {
     "data": {
      "text/plain": [
       "tensor([[  0,   0,   0,   0,   6,  39,  63,  47, 226, 255, 218, 254, 254, 251,\n",
       "         114,   0,   0,   0],\n",
       "        [  0,   0,   0,   0,  72, 241, 254, 241, 254, 254, 254, 254, 254, 254,\n",
       "         244, 155,  18,   0],\n",
       "        [  0,   0,   0,   0,  86, 254, 254, 254, 254, 254, 254, 254, 254, 254,\n",
       "         254, 254, 152,   0],\n",
       "        [  0,   0,   0,   0,  10, 101, 156, 244, 213,  87, 108, 223, 254, 254,\n",
       "         254, 254, 131,   0],\n",
       "        [  0,   0,   0,   0,   0,   0,   0,  32,  12,  51, 232, 254, 254, 254,\n",
       "         254, 175,   9,   0],\n",
       "        [  0,   0,   0,   0,   0,   0,   0,   0,  92, 223, 254, 254, 254, 254,\n",
       "         169,  34,   0,   0],\n",
       "        [  0,   0,   0,   0,   0,   0,   0,  88, 222, 254, 254, 254, 254, 171,\n",
       "          36,   0,   0,   0],\n",
       "        [  0,   0,   0,   0,   0,   0, 131, 246, 254, 254, 254, 254, 227,  29,\n",
       "           0,   0,   0,   0],\n",
       "        [  0,   0,   0,   0,   0,   0, 245, 254, 254, 254, 254, 200,  66,   0,\n",
       "           0,   0,   0,   0],\n",
       "        [  0,   0,   0,   0,   0,   0, 245, 254, 254, 254, 254, 249, 245, 240,\n",
       "         176, 144, 106,   0],\n",
       "        [  0,   0,   0,   0,   0,   0, 158, 251, 254, 254, 254, 254, 254, 254,\n",
       "         254, 254, 253, 181]], dtype=torch.uint8)"
      ]
     },
     "execution_count": 9,
     "metadata": {},
     "output_type": "execute_result"
    }
   ],
   "source": [
    "tensor(im3)[4:15,4:22]"
   ]
  },
  {
   "cell_type": "code",
   "execution_count": 10,
   "id": "e979c7d9",
   "metadata": {
    "execution": {
     "iopub.execute_input": "2025-07-31T10:18:20.240184Z",
     "iopub.status.busy": "2025-07-31T10:18:20.239510Z",
     "iopub.status.idle": "2025-07-31T10:18:20.469419Z",
     "shell.execute_reply": "2025-07-31T10:18:20.468576Z"
    },
    "papermill": {
     "duration": 0.238617,
     "end_time": "2025-07-31T10:18:20.470840",
     "exception": false,
     "start_time": "2025-07-31T10:18:20.232223",
     "status": "completed"
    },
    "tags": []
   },
   "outputs": [
    {
     "data": {
      "text/html": [
       "<style type=\"text/css\">\n",
       "#T_97ecb_row0_col0, #T_97ecb_row0_col1, #T_97ecb_row0_col2, #T_97ecb_row0_col3, #T_97ecb_row0_col15, #T_97ecb_row0_col16, #T_97ecb_row0_col17, #T_97ecb_row1_col0, #T_97ecb_row1_col1, #T_97ecb_row1_col2, #T_97ecb_row1_col3, #T_97ecb_row1_col17, #T_97ecb_row2_col0, #T_97ecb_row2_col1, #T_97ecb_row2_col2, #T_97ecb_row2_col3, #T_97ecb_row2_col17, #T_97ecb_row3_col0, #T_97ecb_row3_col1, #T_97ecb_row3_col2, #T_97ecb_row3_col3, #T_97ecb_row3_col10, #T_97ecb_row3_col17, #T_97ecb_row4_col0, #T_97ecb_row4_col1, #T_97ecb_row4_col2, #T_97ecb_row4_col3, #T_97ecb_row4_col4, #T_97ecb_row4_col5, #T_97ecb_row4_col6, #T_97ecb_row4_col8, #T_97ecb_row4_col9, #T_97ecb_row4_col17, #T_97ecb_row5_col0, #T_97ecb_row5_col1, #T_97ecb_row5_col2, #T_97ecb_row5_col3, #T_97ecb_row5_col4, #T_97ecb_row5_col5, #T_97ecb_row5_col6, #T_97ecb_row5_col7, #T_97ecb_row5_col16, #T_97ecb_row5_col17, #T_97ecb_row6_col0, #T_97ecb_row6_col1, #T_97ecb_row6_col2, #T_97ecb_row6_col3, #T_97ecb_row6_col4, #T_97ecb_row6_col5, #T_97ecb_row6_col6, #T_97ecb_row6_col15, #T_97ecb_row6_col16, #T_97ecb_row6_col17, #T_97ecb_row7_col0, #T_97ecb_row7_col1, #T_97ecb_row7_col2, #T_97ecb_row7_col3, #T_97ecb_row7_col4, #T_97ecb_row7_col5, #T_97ecb_row7_col14, #T_97ecb_row7_col15, #T_97ecb_row7_col16, #T_97ecb_row7_col17, #T_97ecb_row8_col0, #T_97ecb_row8_col1, #T_97ecb_row8_col2, #T_97ecb_row8_col3, #T_97ecb_row8_col4, #T_97ecb_row8_col5, #T_97ecb_row8_col11, #T_97ecb_row8_col12, #T_97ecb_row8_col13, #T_97ecb_row8_col14, #T_97ecb_row8_col15, #T_97ecb_row8_col16, #T_97ecb_row8_col17, #T_97ecb_row9_col0, #T_97ecb_row9_col1, #T_97ecb_row9_col2, #T_97ecb_row9_col3, #T_97ecb_row9_col4, #T_97ecb_row9_col5, #T_97ecb_row9_col17, #T_97ecb_row10_col0, #T_97ecb_row10_col1, #T_97ecb_row10_col2, #T_97ecb_row10_col3, #T_97ecb_row10_col4, #T_97ecb_row10_col5 {\n",
       "  font-size: 6pt;\n",
       "  background-color: #ffffff;\n",
       "  color: #000000;\n",
       "}\n",
       "#T_97ecb_row0_col4, #T_97ecb_row1_col16 {\n",
       "  font-size: 6pt;\n",
       "  background-color: #f7f7f7;\n",
       "  color: #000000;\n",
       "}\n",
       "#T_97ecb_row0_col5 {\n",
       "  font-size: 6pt;\n",
       "  background-color: #ebebeb;\n",
       "  color: #000000;\n",
       "}\n",
       "#T_97ecb_row0_col6 {\n",
       "  font-size: 6pt;\n",
       "  background-color: #dadada;\n",
       "  color: #000000;\n",
       "}\n",
       "#T_97ecb_row0_col7 {\n",
       "  font-size: 6pt;\n",
       "  background-color: #e5e5e5;\n",
       "  color: #000000;\n",
       "}\n",
       "#T_97ecb_row0_col8 {\n",
       "  font-size: 6pt;\n",
       "  background-color: #222222;\n",
       "  color: #f1f1f1;\n",
       "}\n",
       "#T_97ecb_row0_col9, #T_97ecb_row0_col11, #T_97ecb_row0_col12, #T_97ecb_row1_col6, #T_97ecb_row1_col8, #T_97ecb_row1_col10, #T_97ecb_row1_col11, #T_97ecb_row1_col12, #T_97ecb_row1_col13, #T_97ecb_row2_col4, #T_97ecb_row2_col5, #T_97ecb_row2_col6, #T_97ecb_row2_col7, #T_97ecb_row2_col8, #T_97ecb_row2_col10, #T_97ecb_row2_col11, #T_97ecb_row2_col12, #T_97ecb_row2_col13, #T_97ecb_row2_col14, #T_97ecb_row2_col15, #T_97ecb_row3_col12, #T_97ecb_row3_col13, #T_97ecb_row3_col14, #T_97ecb_row3_col15, #T_97ecb_row4_col11, #T_97ecb_row4_col12, #T_97ecb_row4_col13, #T_97ecb_row4_col14, #T_97ecb_row5_col10, #T_97ecb_row5_col11, #T_97ecb_row5_col12, #T_97ecb_row5_col13, #T_97ecb_row6_col10, #T_97ecb_row6_col11, #T_97ecb_row6_col12, #T_97ecb_row7_col8, #T_97ecb_row7_col10, #T_97ecb_row7_col11, #T_97ecb_row8_col7, #T_97ecb_row8_col8, #T_97ecb_row8_col10, #T_97ecb_row9_col7, #T_97ecb_row9_col8, #T_97ecb_row9_col10, #T_97ecb_row10_col8, #T_97ecb_row10_col10, #T_97ecb_row10_col11, #T_97ecb_row10_col12, #T_97ecb_row10_col13, #T_97ecb_row10_col14, #T_97ecb_row10_col15, #T_97ecb_row10_col16, #T_97ecb_row10_col17 {\n",
       "  font-size: 6pt;\n",
       "  background-color: #000000;\n",
       "  color: #f1f1f1;\n",
       "}\n",
       "#T_97ecb_row0_col10 {\n",
       "  font-size: 6pt;\n",
       "  background-color: #515151;\n",
       "  color: #f1f1f1;\n",
       "}\n",
       "#T_97ecb_row0_col13, #T_97ecb_row10_col7 {\n",
       "  font-size: 6pt;\n",
       "  background-color: #030303;\n",
       "  color: #f1f1f1;\n",
       "}\n",
       "#T_97ecb_row0_col14 {\n",
       "  font-size: 6pt;\n",
       "  background-color: #a7a7a7;\n",
       "  color: #f1f1f1;\n",
       "}\n",
       "#T_97ecb_row1_col4 {\n",
       "  font-size: 6pt;\n",
       "  background-color: #323232;\n",
       "  color: #f1f1f1;\n",
       "}\n",
       "#T_97ecb_row1_col5, #T_97ecb_row1_col7 {\n",
       "  font-size: 6pt;\n",
       "  background-color: #0f0f0f;\n",
       "  color: #f1f1f1;\n",
       "}\n",
       "#T_97ecb_row1_col9, #T_97ecb_row2_col9, #T_97ecb_row6_col9, #T_97ecb_row7_col9, #T_97ecb_row8_col9, #T_97ecb_row9_col9, #T_97ecb_row10_col9 {\n",
       "  font-size: 6pt;\n",
       "  background-color: #010101;\n",
       "  color: #f1f1f1;\n",
       "}\n",
       "#T_97ecb_row1_col14, #T_97ecb_row3_col7 {\n",
       "  font-size: 6pt;\n",
       "  background-color: #0c0c0c;\n",
       "  color: #f1f1f1;\n",
       "}\n",
       "#T_97ecb_row1_col15 {\n",
       "  font-size: 6pt;\n",
       "  background-color: #777777;\n",
       "  color: #f1f1f1;\n",
       "}\n",
       "#T_97ecb_row2_col16 {\n",
       "  font-size: 6pt;\n",
       "  background-color: #7a7a7a;\n",
       "  color: #f1f1f1;\n",
       "}\n",
       "#T_97ecb_row3_col4, #T_97ecb_row7_col13 {\n",
       "  font-size: 6pt;\n",
       "  background-color: #f1f1f1;\n",
       "  color: #000000;\n",
       "}\n",
       "#T_97ecb_row3_col5 {\n",
       "  font-size: 6pt;\n",
       "  background-color: #b6b6b6;\n",
       "  color: #000000;\n",
       "}\n",
       "#T_97ecb_row3_col6 {\n",
       "  font-size: 6pt;\n",
       "  background-color: #767676;\n",
       "  color: #f1f1f1;\n",
       "}\n",
       "#T_97ecb_row3_col8 {\n",
       "  font-size: 6pt;\n",
       "  background-color: #353535;\n",
       "  color: #f1f1f1;\n",
       "}\n",
       "#T_97ecb_row3_col9 {\n",
       "  font-size: 6pt;\n",
       "  background-color: #e7e7e7;\n",
       "  color: #000000;\n",
       "}\n",
       "#T_97ecb_row3_col11 {\n",
       "  font-size: 6pt;\n",
       "  background-color: #adadad;\n",
       "  color: #000000;\n",
       "}\n",
       "#T_97ecb_row3_col16, #T_97ecb_row7_col6 {\n",
       "  font-size: 6pt;\n",
       "  background-color: #919191;\n",
       "  color: #f1f1f1;\n",
       "}\n",
       "#T_97ecb_row4_col7 {\n",
       "  font-size: 6pt;\n",
       "  background-color: #f0f0f0;\n",
       "  color: #000000;\n",
       "}\n",
       "#T_97ecb_row4_col10 {\n",
       "  font-size: 6pt;\n",
       "  background-color: #2e2e2e;\n",
       "  color: #f1f1f1;\n",
       "}\n",
       "#T_97ecb_row4_col15 {\n",
       "  font-size: 6pt;\n",
       "  background-color: #626262;\n",
       "  color: #f1f1f1;\n",
       "}\n",
       "#T_97ecb_row4_col16 {\n",
       "  font-size: 6pt;\n",
       "  background-color: #fbfbfb;\n",
       "  color: #000000;\n",
       "}\n",
       "#T_97ecb_row5_col8 {\n",
       "  font-size: 6pt;\n",
       "  background-color: #c7c7c7;\n",
       "  color: #000000;\n",
       "}\n",
       "#T_97ecb_row5_col9 {\n",
       "  font-size: 6pt;\n",
       "  background-color: #303030;\n",
       "  color: #f1f1f1;\n",
       "}\n",
       "#T_97ecb_row5_col14 {\n",
       "  font-size: 6pt;\n",
       "  background-color: #686868;\n",
       "  color: #f1f1f1;\n",
       "}\n",
       "#T_97ecb_row5_col15 {\n",
       "  font-size: 6pt;\n",
       "  background-color: #eeeeee;\n",
       "  color: #000000;\n",
       "}\n",
       "#T_97ecb_row6_col7 {\n",
       "  font-size: 6pt;\n",
       "  background-color: #c4c4c4;\n",
       "  color: #000000;\n",
       "}\n",
       "#T_97ecb_row6_col8 {\n",
       "  font-size: 6pt;\n",
       "  background-color: #272727;\n",
       "  color: #f1f1f1;\n",
       "}\n",
       "#T_97ecb_row6_col13 {\n",
       "  font-size: 6pt;\n",
       "  background-color: #666666;\n",
       "  color: #f1f1f1;\n",
       "}\n",
       "#T_97ecb_row6_col14 {\n",
       "  font-size: 6pt;\n",
       "  background-color: #ededed;\n",
       "  color: #000000;\n",
       "}\n",
       "#T_97ecb_row7_col7 {\n",
       "  font-size: 6pt;\n",
       "  background-color: #090909;\n",
       "  color: #f1f1f1;\n",
       "}\n",
       "#T_97ecb_row7_col12 {\n",
       "  font-size: 6pt;\n",
       "  background-color: #2b2b2b;\n",
       "  color: #f1f1f1;\n",
       "}\n",
       "#T_97ecb_row8_col6, #T_97ecb_row9_col6 {\n",
       "  font-size: 6pt;\n",
       "  background-color: #0a0a0a;\n",
       "  color: #f1f1f1;\n",
       "}\n",
       "#T_97ecb_row9_col11 {\n",
       "  font-size: 6pt;\n",
       "  background-color: #1b1b1b;\n",
       "  color: #f1f1f1;\n",
       "}\n",
       "#T_97ecb_row9_col12 {\n",
       "  font-size: 6pt;\n",
       "  background-color: #0e0e0e;\n",
       "  color: #f1f1f1;\n",
       "}\n",
       "#T_97ecb_row9_col13 {\n",
       "  font-size: 6pt;\n",
       "  background-color: #101010;\n",
       "  color: #f1f1f1;\n",
       "}\n",
       "#T_97ecb_row9_col14 {\n",
       "  font-size: 6pt;\n",
       "  background-color: #616161;\n",
       "  color: #f1f1f1;\n",
       "}\n",
       "#T_97ecb_row9_col15 {\n",
       "  font-size: 6pt;\n",
       "  background-color: #838383;\n",
       "  color: #f1f1f1;\n",
       "}\n",
       "#T_97ecb_row9_col16 {\n",
       "  font-size: 6pt;\n",
       "  background-color: #afafaf;\n",
       "  color: #000000;\n",
       "}\n",
       "#T_97ecb_row10_col6 {\n",
       "  font-size: 6pt;\n",
       "  background-color: #737373;\n",
       "  color: #f1f1f1;\n",
       "}\n",
       "</style>\n",
       "<table id=\"T_97ecb\">\n",
       "  <thead>\n",
       "    <tr>\n",
       "      <th class=\"blank level0\" >&nbsp;</th>\n",
       "      <th id=\"T_97ecb_level0_col0\" class=\"col_heading level0 col0\" >0</th>\n",
       "      <th id=\"T_97ecb_level0_col1\" class=\"col_heading level0 col1\" >1</th>\n",
       "      <th id=\"T_97ecb_level0_col2\" class=\"col_heading level0 col2\" >2</th>\n",
       "      <th id=\"T_97ecb_level0_col3\" class=\"col_heading level0 col3\" >3</th>\n",
       "      <th id=\"T_97ecb_level0_col4\" class=\"col_heading level0 col4\" >4</th>\n",
       "      <th id=\"T_97ecb_level0_col5\" class=\"col_heading level0 col5\" >5</th>\n",
       "      <th id=\"T_97ecb_level0_col6\" class=\"col_heading level0 col6\" >6</th>\n",
       "      <th id=\"T_97ecb_level0_col7\" class=\"col_heading level0 col7\" >7</th>\n",
       "      <th id=\"T_97ecb_level0_col8\" class=\"col_heading level0 col8\" >8</th>\n",
       "      <th id=\"T_97ecb_level0_col9\" class=\"col_heading level0 col9\" >9</th>\n",
       "      <th id=\"T_97ecb_level0_col10\" class=\"col_heading level0 col10\" >10</th>\n",
       "      <th id=\"T_97ecb_level0_col11\" class=\"col_heading level0 col11\" >11</th>\n",
       "      <th id=\"T_97ecb_level0_col12\" class=\"col_heading level0 col12\" >12</th>\n",
       "      <th id=\"T_97ecb_level0_col13\" class=\"col_heading level0 col13\" >13</th>\n",
       "      <th id=\"T_97ecb_level0_col14\" class=\"col_heading level0 col14\" >14</th>\n",
       "      <th id=\"T_97ecb_level0_col15\" class=\"col_heading level0 col15\" >15</th>\n",
       "      <th id=\"T_97ecb_level0_col16\" class=\"col_heading level0 col16\" >16</th>\n",
       "      <th id=\"T_97ecb_level0_col17\" class=\"col_heading level0 col17\" >17</th>\n",
       "    </tr>\n",
       "  </thead>\n",
       "  <tbody>\n",
       "    <tr>\n",
       "      <th id=\"T_97ecb_level0_row0\" class=\"row_heading level0 row0\" >0</th>\n",
       "      <td id=\"T_97ecb_row0_col0\" class=\"data row0 col0\" >0</td>\n",
       "      <td id=\"T_97ecb_row0_col1\" class=\"data row0 col1\" >0</td>\n",
       "      <td id=\"T_97ecb_row0_col2\" class=\"data row0 col2\" >0</td>\n",
       "      <td id=\"T_97ecb_row0_col3\" class=\"data row0 col3\" >0</td>\n",
       "      <td id=\"T_97ecb_row0_col4\" class=\"data row0 col4\" >6</td>\n",
       "      <td id=\"T_97ecb_row0_col5\" class=\"data row0 col5\" >39</td>\n",
       "      <td id=\"T_97ecb_row0_col6\" class=\"data row0 col6\" >63</td>\n",
       "      <td id=\"T_97ecb_row0_col7\" class=\"data row0 col7\" >47</td>\n",
       "      <td id=\"T_97ecb_row0_col8\" class=\"data row0 col8\" >226</td>\n",
       "      <td id=\"T_97ecb_row0_col9\" class=\"data row0 col9\" >255</td>\n",
       "      <td id=\"T_97ecb_row0_col10\" class=\"data row0 col10\" >218</td>\n",
       "      <td id=\"T_97ecb_row0_col11\" class=\"data row0 col11\" >254</td>\n",
       "      <td id=\"T_97ecb_row0_col12\" class=\"data row0 col12\" >254</td>\n",
       "      <td id=\"T_97ecb_row0_col13\" class=\"data row0 col13\" >251</td>\n",
       "      <td id=\"T_97ecb_row0_col14\" class=\"data row0 col14\" >114</td>\n",
       "      <td id=\"T_97ecb_row0_col15\" class=\"data row0 col15\" >0</td>\n",
       "      <td id=\"T_97ecb_row0_col16\" class=\"data row0 col16\" >0</td>\n",
       "      <td id=\"T_97ecb_row0_col17\" class=\"data row0 col17\" >0</td>\n",
       "    </tr>\n",
       "    <tr>\n",
       "      <th id=\"T_97ecb_level0_row1\" class=\"row_heading level0 row1\" >1</th>\n",
       "      <td id=\"T_97ecb_row1_col0\" class=\"data row1 col0\" >0</td>\n",
       "      <td id=\"T_97ecb_row1_col1\" class=\"data row1 col1\" >0</td>\n",
       "      <td id=\"T_97ecb_row1_col2\" class=\"data row1 col2\" >0</td>\n",
       "      <td id=\"T_97ecb_row1_col3\" class=\"data row1 col3\" >0</td>\n",
       "      <td id=\"T_97ecb_row1_col4\" class=\"data row1 col4\" >72</td>\n",
       "      <td id=\"T_97ecb_row1_col5\" class=\"data row1 col5\" >241</td>\n",
       "      <td id=\"T_97ecb_row1_col6\" class=\"data row1 col6\" >254</td>\n",
       "      <td id=\"T_97ecb_row1_col7\" class=\"data row1 col7\" >241</td>\n",
       "      <td id=\"T_97ecb_row1_col8\" class=\"data row1 col8\" >254</td>\n",
       "      <td id=\"T_97ecb_row1_col9\" class=\"data row1 col9\" >254</td>\n",
       "      <td id=\"T_97ecb_row1_col10\" class=\"data row1 col10\" >254</td>\n",
       "      <td id=\"T_97ecb_row1_col11\" class=\"data row1 col11\" >254</td>\n",
       "      <td id=\"T_97ecb_row1_col12\" class=\"data row1 col12\" >254</td>\n",
       "      <td id=\"T_97ecb_row1_col13\" class=\"data row1 col13\" >254</td>\n",
       "      <td id=\"T_97ecb_row1_col14\" class=\"data row1 col14\" >244</td>\n",
       "      <td id=\"T_97ecb_row1_col15\" class=\"data row1 col15\" >155</td>\n",
       "      <td id=\"T_97ecb_row1_col16\" class=\"data row1 col16\" >18</td>\n",
       "      <td id=\"T_97ecb_row1_col17\" class=\"data row1 col17\" >0</td>\n",
       "    </tr>\n",
       "    <tr>\n",
       "      <th id=\"T_97ecb_level0_row2\" class=\"row_heading level0 row2\" >2</th>\n",
       "      <td id=\"T_97ecb_row2_col0\" class=\"data row2 col0\" >0</td>\n",
       "      <td id=\"T_97ecb_row2_col1\" class=\"data row2 col1\" >0</td>\n",
       "      <td id=\"T_97ecb_row2_col2\" class=\"data row2 col2\" >0</td>\n",
       "      <td id=\"T_97ecb_row2_col3\" class=\"data row2 col3\" >0</td>\n",
       "      <td id=\"T_97ecb_row2_col4\" class=\"data row2 col4\" >86</td>\n",
       "      <td id=\"T_97ecb_row2_col5\" class=\"data row2 col5\" >254</td>\n",
       "      <td id=\"T_97ecb_row2_col6\" class=\"data row2 col6\" >254</td>\n",
       "      <td id=\"T_97ecb_row2_col7\" class=\"data row2 col7\" >254</td>\n",
       "      <td id=\"T_97ecb_row2_col8\" class=\"data row2 col8\" >254</td>\n",
       "      <td id=\"T_97ecb_row2_col9\" class=\"data row2 col9\" >254</td>\n",
       "      <td id=\"T_97ecb_row2_col10\" class=\"data row2 col10\" >254</td>\n",
       "      <td id=\"T_97ecb_row2_col11\" class=\"data row2 col11\" >254</td>\n",
       "      <td id=\"T_97ecb_row2_col12\" class=\"data row2 col12\" >254</td>\n",
       "      <td id=\"T_97ecb_row2_col13\" class=\"data row2 col13\" >254</td>\n",
       "      <td id=\"T_97ecb_row2_col14\" class=\"data row2 col14\" >254</td>\n",
       "      <td id=\"T_97ecb_row2_col15\" class=\"data row2 col15\" >254</td>\n",
       "      <td id=\"T_97ecb_row2_col16\" class=\"data row2 col16\" >152</td>\n",
       "      <td id=\"T_97ecb_row2_col17\" class=\"data row2 col17\" >0</td>\n",
       "    </tr>\n",
       "    <tr>\n",
       "      <th id=\"T_97ecb_level0_row3\" class=\"row_heading level0 row3\" >3</th>\n",
       "      <td id=\"T_97ecb_row3_col0\" class=\"data row3 col0\" >0</td>\n",
       "      <td id=\"T_97ecb_row3_col1\" class=\"data row3 col1\" >0</td>\n",
       "      <td id=\"T_97ecb_row3_col2\" class=\"data row3 col2\" >0</td>\n",
       "      <td id=\"T_97ecb_row3_col3\" class=\"data row3 col3\" >0</td>\n",
       "      <td id=\"T_97ecb_row3_col4\" class=\"data row3 col4\" >10</td>\n",
       "      <td id=\"T_97ecb_row3_col5\" class=\"data row3 col5\" >101</td>\n",
       "      <td id=\"T_97ecb_row3_col6\" class=\"data row3 col6\" >156</td>\n",
       "      <td id=\"T_97ecb_row3_col7\" class=\"data row3 col7\" >244</td>\n",
       "      <td id=\"T_97ecb_row3_col8\" class=\"data row3 col8\" >213</td>\n",
       "      <td id=\"T_97ecb_row3_col9\" class=\"data row3 col9\" >87</td>\n",
       "      <td id=\"T_97ecb_row3_col10\" class=\"data row3 col10\" >108</td>\n",
       "      <td id=\"T_97ecb_row3_col11\" class=\"data row3 col11\" >223</td>\n",
       "      <td id=\"T_97ecb_row3_col12\" class=\"data row3 col12\" >254</td>\n",
       "      <td id=\"T_97ecb_row3_col13\" class=\"data row3 col13\" >254</td>\n",
       "      <td id=\"T_97ecb_row3_col14\" class=\"data row3 col14\" >254</td>\n",
       "      <td id=\"T_97ecb_row3_col15\" class=\"data row3 col15\" >254</td>\n",
       "      <td id=\"T_97ecb_row3_col16\" class=\"data row3 col16\" >131</td>\n",
       "      <td id=\"T_97ecb_row3_col17\" class=\"data row3 col17\" >0</td>\n",
       "    </tr>\n",
       "    <tr>\n",
       "      <th id=\"T_97ecb_level0_row4\" class=\"row_heading level0 row4\" >4</th>\n",
       "      <td id=\"T_97ecb_row4_col0\" class=\"data row4 col0\" >0</td>\n",
       "      <td id=\"T_97ecb_row4_col1\" class=\"data row4 col1\" >0</td>\n",
       "      <td id=\"T_97ecb_row4_col2\" class=\"data row4 col2\" >0</td>\n",
       "      <td id=\"T_97ecb_row4_col3\" class=\"data row4 col3\" >0</td>\n",
       "      <td id=\"T_97ecb_row4_col4\" class=\"data row4 col4\" >0</td>\n",
       "      <td id=\"T_97ecb_row4_col5\" class=\"data row4 col5\" >0</td>\n",
       "      <td id=\"T_97ecb_row4_col6\" class=\"data row4 col6\" >0</td>\n",
       "      <td id=\"T_97ecb_row4_col7\" class=\"data row4 col7\" >32</td>\n",
       "      <td id=\"T_97ecb_row4_col8\" class=\"data row4 col8\" >12</td>\n",
       "      <td id=\"T_97ecb_row4_col9\" class=\"data row4 col9\" >51</td>\n",
       "      <td id=\"T_97ecb_row4_col10\" class=\"data row4 col10\" >232</td>\n",
       "      <td id=\"T_97ecb_row4_col11\" class=\"data row4 col11\" >254</td>\n",
       "      <td id=\"T_97ecb_row4_col12\" class=\"data row4 col12\" >254</td>\n",
       "      <td id=\"T_97ecb_row4_col13\" class=\"data row4 col13\" >254</td>\n",
       "      <td id=\"T_97ecb_row4_col14\" class=\"data row4 col14\" >254</td>\n",
       "      <td id=\"T_97ecb_row4_col15\" class=\"data row4 col15\" >175</td>\n",
       "      <td id=\"T_97ecb_row4_col16\" class=\"data row4 col16\" >9</td>\n",
       "      <td id=\"T_97ecb_row4_col17\" class=\"data row4 col17\" >0</td>\n",
       "    </tr>\n",
       "    <tr>\n",
       "      <th id=\"T_97ecb_level0_row5\" class=\"row_heading level0 row5\" >5</th>\n",
       "      <td id=\"T_97ecb_row5_col0\" class=\"data row5 col0\" >0</td>\n",
       "      <td id=\"T_97ecb_row5_col1\" class=\"data row5 col1\" >0</td>\n",
       "      <td id=\"T_97ecb_row5_col2\" class=\"data row5 col2\" >0</td>\n",
       "      <td id=\"T_97ecb_row5_col3\" class=\"data row5 col3\" >0</td>\n",
       "      <td id=\"T_97ecb_row5_col4\" class=\"data row5 col4\" >0</td>\n",
       "      <td id=\"T_97ecb_row5_col5\" class=\"data row5 col5\" >0</td>\n",
       "      <td id=\"T_97ecb_row5_col6\" class=\"data row5 col6\" >0</td>\n",
       "      <td id=\"T_97ecb_row5_col7\" class=\"data row5 col7\" >0</td>\n",
       "      <td id=\"T_97ecb_row5_col8\" class=\"data row5 col8\" >92</td>\n",
       "      <td id=\"T_97ecb_row5_col9\" class=\"data row5 col9\" >223</td>\n",
       "      <td id=\"T_97ecb_row5_col10\" class=\"data row5 col10\" >254</td>\n",
       "      <td id=\"T_97ecb_row5_col11\" class=\"data row5 col11\" >254</td>\n",
       "      <td id=\"T_97ecb_row5_col12\" class=\"data row5 col12\" >254</td>\n",
       "      <td id=\"T_97ecb_row5_col13\" class=\"data row5 col13\" >254</td>\n",
       "      <td id=\"T_97ecb_row5_col14\" class=\"data row5 col14\" >169</td>\n",
       "      <td id=\"T_97ecb_row5_col15\" class=\"data row5 col15\" >34</td>\n",
       "      <td id=\"T_97ecb_row5_col16\" class=\"data row5 col16\" >0</td>\n",
       "      <td id=\"T_97ecb_row5_col17\" class=\"data row5 col17\" >0</td>\n",
       "    </tr>\n",
       "    <tr>\n",
       "      <th id=\"T_97ecb_level0_row6\" class=\"row_heading level0 row6\" >6</th>\n",
       "      <td id=\"T_97ecb_row6_col0\" class=\"data row6 col0\" >0</td>\n",
       "      <td id=\"T_97ecb_row6_col1\" class=\"data row6 col1\" >0</td>\n",
       "      <td id=\"T_97ecb_row6_col2\" class=\"data row6 col2\" >0</td>\n",
       "      <td id=\"T_97ecb_row6_col3\" class=\"data row6 col3\" >0</td>\n",
       "      <td id=\"T_97ecb_row6_col4\" class=\"data row6 col4\" >0</td>\n",
       "      <td id=\"T_97ecb_row6_col5\" class=\"data row6 col5\" >0</td>\n",
       "      <td id=\"T_97ecb_row6_col6\" class=\"data row6 col6\" >0</td>\n",
       "      <td id=\"T_97ecb_row6_col7\" class=\"data row6 col7\" >88</td>\n",
       "      <td id=\"T_97ecb_row6_col8\" class=\"data row6 col8\" >222</td>\n",
       "      <td id=\"T_97ecb_row6_col9\" class=\"data row6 col9\" >254</td>\n",
       "      <td id=\"T_97ecb_row6_col10\" class=\"data row6 col10\" >254</td>\n",
       "      <td id=\"T_97ecb_row6_col11\" class=\"data row6 col11\" >254</td>\n",
       "      <td id=\"T_97ecb_row6_col12\" class=\"data row6 col12\" >254</td>\n",
       "      <td id=\"T_97ecb_row6_col13\" class=\"data row6 col13\" >171</td>\n",
       "      <td id=\"T_97ecb_row6_col14\" class=\"data row6 col14\" >36</td>\n",
       "      <td id=\"T_97ecb_row6_col15\" class=\"data row6 col15\" >0</td>\n",
       "      <td id=\"T_97ecb_row6_col16\" class=\"data row6 col16\" >0</td>\n",
       "      <td id=\"T_97ecb_row6_col17\" class=\"data row6 col17\" >0</td>\n",
       "    </tr>\n",
       "    <tr>\n",
       "      <th id=\"T_97ecb_level0_row7\" class=\"row_heading level0 row7\" >7</th>\n",
       "      <td id=\"T_97ecb_row7_col0\" class=\"data row7 col0\" >0</td>\n",
       "      <td id=\"T_97ecb_row7_col1\" class=\"data row7 col1\" >0</td>\n",
       "      <td id=\"T_97ecb_row7_col2\" class=\"data row7 col2\" >0</td>\n",
       "      <td id=\"T_97ecb_row7_col3\" class=\"data row7 col3\" >0</td>\n",
       "      <td id=\"T_97ecb_row7_col4\" class=\"data row7 col4\" >0</td>\n",
       "      <td id=\"T_97ecb_row7_col5\" class=\"data row7 col5\" >0</td>\n",
       "      <td id=\"T_97ecb_row7_col6\" class=\"data row7 col6\" >131</td>\n",
       "      <td id=\"T_97ecb_row7_col7\" class=\"data row7 col7\" >246</td>\n",
       "      <td id=\"T_97ecb_row7_col8\" class=\"data row7 col8\" >254</td>\n",
       "      <td id=\"T_97ecb_row7_col9\" class=\"data row7 col9\" >254</td>\n",
       "      <td id=\"T_97ecb_row7_col10\" class=\"data row7 col10\" >254</td>\n",
       "      <td id=\"T_97ecb_row7_col11\" class=\"data row7 col11\" >254</td>\n",
       "      <td id=\"T_97ecb_row7_col12\" class=\"data row7 col12\" >227</td>\n",
       "      <td id=\"T_97ecb_row7_col13\" class=\"data row7 col13\" >29</td>\n",
       "      <td id=\"T_97ecb_row7_col14\" class=\"data row7 col14\" >0</td>\n",
       "      <td id=\"T_97ecb_row7_col15\" class=\"data row7 col15\" >0</td>\n",
       "      <td id=\"T_97ecb_row7_col16\" class=\"data row7 col16\" >0</td>\n",
       "      <td id=\"T_97ecb_row7_col17\" class=\"data row7 col17\" >0</td>\n",
       "    </tr>\n",
       "    <tr>\n",
       "      <th id=\"T_97ecb_level0_row8\" class=\"row_heading level0 row8\" >8</th>\n",
       "      <td id=\"T_97ecb_row8_col0\" class=\"data row8 col0\" >0</td>\n",
       "      <td id=\"T_97ecb_row8_col1\" class=\"data row8 col1\" >0</td>\n",
       "      <td id=\"T_97ecb_row8_col2\" class=\"data row8 col2\" >0</td>\n",
       "      <td id=\"T_97ecb_row8_col3\" class=\"data row8 col3\" >0</td>\n",
       "      <td id=\"T_97ecb_row8_col4\" class=\"data row8 col4\" >0</td>\n",
       "      <td id=\"T_97ecb_row8_col5\" class=\"data row8 col5\" >0</td>\n",
       "      <td id=\"T_97ecb_row8_col6\" class=\"data row8 col6\" >245</td>\n",
       "      <td id=\"T_97ecb_row8_col7\" class=\"data row8 col7\" >254</td>\n",
       "      <td id=\"T_97ecb_row8_col8\" class=\"data row8 col8\" >254</td>\n",
       "      <td id=\"T_97ecb_row8_col9\" class=\"data row8 col9\" >254</td>\n",
       "      <td id=\"T_97ecb_row8_col10\" class=\"data row8 col10\" >254</td>\n",
       "      <td id=\"T_97ecb_row8_col11\" class=\"data row8 col11\" >200</td>\n",
       "      <td id=\"T_97ecb_row8_col12\" class=\"data row8 col12\" >66</td>\n",
       "      <td id=\"T_97ecb_row8_col13\" class=\"data row8 col13\" >0</td>\n",
       "      <td id=\"T_97ecb_row8_col14\" class=\"data row8 col14\" >0</td>\n",
       "      <td id=\"T_97ecb_row8_col15\" class=\"data row8 col15\" >0</td>\n",
       "      <td id=\"T_97ecb_row8_col16\" class=\"data row8 col16\" >0</td>\n",
       "      <td id=\"T_97ecb_row8_col17\" class=\"data row8 col17\" >0</td>\n",
       "    </tr>\n",
       "    <tr>\n",
       "      <th id=\"T_97ecb_level0_row9\" class=\"row_heading level0 row9\" >9</th>\n",
       "      <td id=\"T_97ecb_row9_col0\" class=\"data row9 col0\" >0</td>\n",
       "      <td id=\"T_97ecb_row9_col1\" class=\"data row9 col1\" >0</td>\n",
       "      <td id=\"T_97ecb_row9_col2\" class=\"data row9 col2\" >0</td>\n",
       "      <td id=\"T_97ecb_row9_col3\" class=\"data row9 col3\" >0</td>\n",
       "      <td id=\"T_97ecb_row9_col4\" class=\"data row9 col4\" >0</td>\n",
       "      <td id=\"T_97ecb_row9_col5\" class=\"data row9 col5\" >0</td>\n",
       "      <td id=\"T_97ecb_row9_col6\" class=\"data row9 col6\" >245</td>\n",
       "      <td id=\"T_97ecb_row9_col7\" class=\"data row9 col7\" >254</td>\n",
       "      <td id=\"T_97ecb_row9_col8\" class=\"data row9 col8\" >254</td>\n",
       "      <td id=\"T_97ecb_row9_col9\" class=\"data row9 col9\" >254</td>\n",
       "      <td id=\"T_97ecb_row9_col10\" class=\"data row9 col10\" >254</td>\n",
       "      <td id=\"T_97ecb_row9_col11\" class=\"data row9 col11\" >249</td>\n",
       "      <td id=\"T_97ecb_row9_col12\" class=\"data row9 col12\" >245</td>\n",
       "      <td id=\"T_97ecb_row9_col13\" class=\"data row9 col13\" >240</td>\n",
       "      <td id=\"T_97ecb_row9_col14\" class=\"data row9 col14\" >176</td>\n",
       "      <td id=\"T_97ecb_row9_col15\" class=\"data row9 col15\" >144</td>\n",
       "      <td id=\"T_97ecb_row9_col16\" class=\"data row9 col16\" >106</td>\n",
       "      <td id=\"T_97ecb_row9_col17\" class=\"data row9 col17\" >0</td>\n",
       "    </tr>\n",
       "    <tr>\n",
       "      <th id=\"T_97ecb_level0_row10\" class=\"row_heading level0 row10\" >10</th>\n",
       "      <td id=\"T_97ecb_row10_col0\" class=\"data row10 col0\" >0</td>\n",
       "      <td id=\"T_97ecb_row10_col1\" class=\"data row10 col1\" >0</td>\n",
       "      <td id=\"T_97ecb_row10_col2\" class=\"data row10 col2\" >0</td>\n",
       "      <td id=\"T_97ecb_row10_col3\" class=\"data row10 col3\" >0</td>\n",
       "      <td id=\"T_97ecb_row10_col4\" class=\"data row10 col4\" >0</td>\n",
       "      <td id=\"T_97ecb_row10_col5\" class=\"data row10 col5\" >0</td>\n",
       "      <td id=\"T_97ecb_row10_col6\" class=\"data row10 col6\" >158</td>\n",
       "      <td id=\"T_97ecb_row10_col7\" class=\"data row10 col7\" >251</td>\n",
       "      <td id=\"T_97ecb_row10_col8\" class=\"data row10 col8\" >254</td>\n",
       "      <td id=\"T_97ecb_row10_col9\" class=\"data row10 col9\" >254</td>\n",
       "      <td id=\"T_97ecb_row10_col10\" class=\"data row10 col10\" >254</td>\n",
       "      <td id=\"T_97ecb_row10_col11\" class=\"data row10 col11\" >254</td>\n",
       "      <td id=\"T_97ecb_row10_col12\" class=\"data row10 col12\" >254</td>\n",
       "      <td id=\"T_97ecb_row10_col13\" class=\"data row10 col13\" >254</td>\n",
       "      <td id=\"T_97ecb_row10_col14\" class=\"data row10 col14\" >254</td>\n",
       "      <td id=\"T_97ecb_row10_col15\" class=\"data row10 col15\" >254</td>\n",
       "      <td id=\"T_97ecb_row10_col16\" class=\"data row10 col16\" >253</td>\n",
       "      <td id=\"T_97ecb_row10_col17\" class=\"data row10 col17\" >181</td>\n",
       "    </tr>\n",
       "  </tbody>\n",
       "</table>\n"
      ],
      "text/plain": [
       "<pandas.io.formats.style.Styler at 0x7afc73834e50>"
      ]
     },
     "execution_count": 10,
     "metadata": {},
     "output_type": "execute_result"
    }
   ],
   "source": [
    "#slicing a portion and plotting\n",
    "im3_t = tensor(im3)\n",
    "df = pd.DataFrame(im3_t[4:15,4:22])\n",
    "df.style.set_properties(**{'font-size':'6pt'}).background_gradient('Greys')"
   ]
  },
  {
   "cell_type": "code",
   "execution_count": 11,
   "id": "7472361b",
   "metadata": {
    "execution": {
     "iopub.execute_input": "2025-07-31T10:18:20.486204Z",
     "iopub.status.busy": "2025-07-31T10:18:20.485732Z",
     "iopub.status.idle": "2025-07-31T10:18:22.442690Z",
     "shell.execute_reply": "2025-07-31T10:18:22.441748Z"
    },
    "papermill": {
     "duration": 1.966093,
     "end_time": "2025-07-31T10:18:22.444255",
     "exception": false,
     "start_time": "2025-07-31T10:18:20.478162",
     "status": "completed"
    },
    "tags": []
   },
   "outputs": [
    {
     "data": {
      "text/plain": [
       "(6131, 6265)"
      ]
     },
     "execution_count": 11,
     "metadata": {},
     "output_type": "execute_result"
    }
   ],
   "source": [
    "seven_tensors = [tensor(Image.open(o)) for o in sevens]\n",
    "three_tensors = [tensor(Image.open(o)) for o in threes]\n",
    "len(three_tensors),len(seven_tensors)"
   ]
  },
  {
   "cell_type": "code",
   "execution_count": 12,
   "id": "6fae098c",
   "metadata": {
    "execution": {
     "iopub.execute_input": "2025-07-31T10:18:22.459999Z",
     "iopub.status.busy": "2025-07-31T10:18:22.459677Z",
     "iopub.status.idle": "2025-07-31T10:18:22.526129Z",
     "shell.execute_reply": "2025-07-31T10:18:22.525075Z"
    },
    "papermill": {
     "duration": 0.07648,
     "end_time": "2025-07-31T10:18:22.527881",
     "exception": false,
     "start_time": "2025-07-31T10:18:22.451401",
     "status": "completed"
    },
    "tags": []
   },
   "outputs": [
    {
     "data": {
      "image/png": "[encoded data removed]",
      "text/plain": [
       "<Figure size 100x100 with 1 Axes>"
      ]
     },
     "metadata": {},
     "output_type": "display_data"
    }
   ],
   "source": [
    "#Same as Image function of Jupyter, but show_image is from fastai\n",
    "show_image(three_tensors[1]);"
   ]
  },
  {
   "cell_type": "markdown",
   "id": "2f2c50e2",
   "metadata": {
    "papermill": {
     "duration": 0.006474,
     "end_time": "2025-07-31T10:18:22.541912",
     "exception": false,
     "start_time": "2025-07-31T10:18:22.535438",
     "status": "completed"
    },
    "tags": []
   },
   "source": [
    "For every pixel position, the average over all the images of the intensity of that pixel is computed.\n",
    "\n",
    "All images are combined into a list of a single three-dimensional tensor (or rank-3 tensor); done with PyTorch's 'stack' function\n",
    "\n",
    "Then converted into floats, since in PyTorch operations as mean requires float types\n",
    "\n",
    "The individual values in the rank-3 tensor are also normalized with the highest value of the itensity, i.e., 255"
   ]
  },
  {
   "cell_type": "code",
   "execution_count": 13,
   "id": "e4bf266c",
   "metadata": {
    "execution": {
     "iopub.execute_input": "2025-07-31T10:18:22.556517Z",
     "iopub.status.busy": "2025-07-31T10:18:22.556149Z",
     "iopub.status.idle": "2025-07-31T10:18:22.644383Z",
     "shell.execute_reply": "2025-07-31T10:18:22.643476Z"
    },
    "papermill": {
     "duration": 0.097357,
     "end_time": "2025-07-31T10:18:22.645874",
     "exception": false,
     "start_time": "2025-07-31T10:18:22.548517",
     "status": "completed"
    },
    "tags": []
   },
   "outputs": [
    {
     "data": {
      "text/plain": [
       "torch.Size([6265, 28, 28])"
      ]
     },
     "execution_count": 13,
     "metadata": {},
     "output_type": "execute_result"
    }
   ],
   "source": [
    "stacked_sevens = torch.stack(seven_tensors).float()/255\n",
    "stacked_threes = torch.stack(three_tensors).float()/255\n",
    "stacked_sevens.shape\n",
    "##There are 6265 images, each of size 28*28 pixels"
   ]
  },
  {
   "cell_type": "markdown",
   "id": "1326f95b",
   "metadata": {
    "papermill": {
     "duration": 0.006929,
     "end_time": "2025-07-31T10:18:22.660511",
     "exception": false,
     "start_time": "2025-07-31T10:18:22.653582",
     "status": "completed"
    },
    "tags": []
   },
   "source": [
    "**rank** is the number of axes or dimensions in a tensor; **shape** is the size of each axis of a tensor"
   ]
  },
  {
   "cell_type": "code",
   "execution_count": 14,
   "id": "7849a034",
   "metadata": {
    "execution": {
     "iopub.execute_input": "2025-07-31T10:18:22.676498Z",
     "iopub.status.busy": "2025-07-31T10:18:22.675502Z",
     "iopub.status.idle": "2025-07-31T10:18:22.681191Z",
     "shell.execute_reply": "2025-07-31T10:18:22.680413Z"
    },
    "papermill": {
     "duration": 0.01523,
     "end_time": "2025-07-31T10:18:22.682695",
     "exception": false,
     "start_time": "2025-07-31T10:18:22.667465",
     "status": "completed"
    },
    "tags": []
   },
   "outputs": [
    {
     "data": {
      "text/plain": [
       "3"
      ]
     },
     "execution_count": 14,
     "metadata": {},
     "output_type": "execute_result"
    }
   ],
   "source": [
    "#Either function gives the rank of the tensor\n",
    "\n",
    "len(stacked_sevens.shape)\n",
    "#stacked_sevens.ndim"
   ]
  },
  {
   "cell_type": "code",
   "execution_count": 15,
   "id": "7e05ad68",
   "metadata": {
    "execution": {
     "iopub.execute_input": "2025-07-31T10:18:22.698160Z",
     "iopub.status.busy": "2025-07-31T10:18:22.697850Z",
     "iopub.status.idle": "2025-07-31T10:18:22.779655Z",
     "shell.execute_reply": "2025-07-31T10:18:22.778647Z"
    },
    "papermill": {
     "duration": 0.091284,
     "end_time": "2025-07-31T10:18:22.781138",
     "exception": false,
     "start_time": "2025-07-31T10:18:22.689854",
     "status": "completed"
    },
    "tags": []
   },
   "outputs": [
    {
     "data": {
      "image/png": "[encoded data removed]",
      "text/plain": [
       "<Figure size 100x100 with 1 Axes>"
      ]
     },
     "metadata": {},
     "output_type": "display_data"
    },
    {
     "data": {
      "image/png": "[encoded data removed]",
      "text/plain": [
       "<Figure size 100x100 with 1 Axes>"
      ]
     },
     "metadata": {},
     "output_type": "display_data"
    }
   ],
   "source": [
    "#For every pixel position, the average of that pixel over all images\n",
    "\n",
    "mean3 = stacked_threes.mean(0)\n",
    "\n",
    "mean7 = stacked_sevens.mean(0)\n",
    "show_image(mean7); show_image(mean3);"
   ]
  },
  {
   "cell_type": "markdown",
   "id": "dd190359",
   "metadata": {
    "papermill": {
     "duration": 0.007083,
     "end_time": "2025-07-31T10:18:22.795932",
     "exception": false,
     "start_time": "2025-07-31T10:18:22.788849",
     "status": "completed"
    },
    "tags": []
   },
   "source": [
    "A distinction from a random 3 or 7 is made by determining the difference between the random number and the mean using **MAE** and **RMSE**\n",
    "\n",
    "Smaller the error, closer the similarities between random and mean"
   ]
  },
  {
   "cell_type": "code",
   "execution_count": 16,
   "id": "9abae763",
   "metadata": {
    "execution": {
     "iopub.execute_input": "2025-07-31T10:18:22.812274Z",
     "iopub.status.busy": "2025-07-31T10:18:22.811941Z",
     "iopub.status.idle": "2025-07-31T10:18:22.882477Z",
     "shell.execute_reply": "2025-07-31T10:18:22.881438Z"
    },
    "papermill": {
     "duration": 0.080692,
     "end_time": "2025-07-31T10:18:22.884033",
     "exception": false,
     "start_time": "2025-07-31T10:18:22.803341",
     "status": "completed"
    },
    "tags": []
   },
   "outputs": [
    {
     "data": {
      "image/png": "[encoded data removed]",
      "text/plain": [
       "<Figure size 100x100 with 1 Axes>"
      ]
     },
     "metadata": {},
     "output_type": "display_data"
    },
    {
     "data": {
      "image/png": "[encoded data removed]",
      "text/plain": [
       "<Figure size 100x100 with 1 Axes>"
      ]
     },
     "metadata": {},
     "output_type": "display_data"
    }
   ],
   "source": [
    "rand_3 = stacked_threes[1]\n",
    "rand_7 = stacked_sevens[1]\n",
    "\n",
    "show_image(rand_3); show_image(rand_7);"
   ]
  },
  {
   "cell_type": "code",
   "execution_count": 17,
   "id": "54ff8301",
   "metadata": {
    "execution": {
     "iopub.execute_input": "2025-07-31T10:18:22.901263Z",
     "iopub.status.busy": "2025-07-31T10:18:22.900569Z",
     "iopub.status.idle": "2025-07-31T10:18:22.927755Z",
     "shell.execute_reply": "2025-07-31T10:18:22.926749Z"
    },
    "papermill": {
     "duration": 0.037411,
     "end_time": "2025-07-31T10:18:22.929330",
     "exception": false,
     "start_time": "2025-07-31T10:18:22.891919",
     "status": "completed"
    },
    "tags": []
   },
   "outputs": [
    {
     "data": {
      "text/plain": [
       "(tensor(0.1854), tensor(0.3271), tensor(0.1304), tensor(0.2585))"
      ]
     },
     "execution_count": 17,
     "metadata": {},
     "output_type": "execute_result"
    }
   ],
   "source": [
    "dist_3_abs = (rand_7 - mean3).abs().mean()\n",
    "dist_3_sqr = ((rand_7 - mean3)**2).mean().sqrt()\n",
    "\n",
    "\n",
    "dist_7_abs = (rand_7 - mean7).abs().mean()\n",
    "dist_7_sqr = ((rand_7 - mean7)**2).mean().sqrt()\n",
    "\n",
    "dist_3_abs,dist_3_sqr, dist_7_abs,dist_7_sqr"
   ]
  },
  {
   "cell_type": "code",
   "execution_count": 18,
   "id": "f8afcca4",
   "metadata": {
    "execution": {
     "iopub.execute_input": "2025-07-31T10:18:22.946754Z",
     "iopub.status.busy": "2025-07-31T10:18:22.945912Z",
     "iopub.status.idle": "2025-07-31T10:18:22.955304Z",
     "shell.execute_reply": "2025-07-31T10:18:22.954311Z"
    },
    "papermill": {
     "duration": 0.019741,
     "end_time": "2025-07-31T10:18:22.956853",
     "exception": false,
     "start_time": "2025-07-31T10:18:22.937112",
     "status": "completed"
    },
    "tags": []
   },
   "outputs": [
    {
     "data": {
      "text/plain": [
       "(tensor(0.1114), tensor(0.2021), tensor(0.1586), tensor(0.3021))"
      ]
     },
     "execution_count": 18,
     "metadata": {},
     "output_type": "execute_result"
    }
   ],
   "source": [
    "dist_3_abs = (rand_3 - mean3).abs().mean()\n",
    "dist_3_sqr = ((rand_3 - mean3)**2).mean().sqrt()\n",
    "\n",
    "\n",
    "dist_7_abs = (rand_3 - mean7).abs().mean()\n",
    "dist_7_sqr = ((rand_3 - mean7)**2).mean().sqrt()\n",
    "\n",
    "dist_3_abs,dist_3_sqr, dist_7_abs,dist_7_sqr"
   ]
  },
  {
   "cell_type": "markdown",
   "id": "21c3650d",
   "metadata": {
    "papermill": {
     "duration": 0.007925,
     "end_time": "2025-07-31T10:18:22.973079",
     "exception": false,
     "start_time": "2025-07-31T10:18:22.965154",
     "status": "completed"
    },
    "tags": []
   },
   "source": [
    "These are considered as *loss functions* in ML lingo.\n",
    "\n",
    "In PyTorch, MSE can be determined using function 'l1_loss' "
   ]
  },
  {
   "cell_type": "code",
   "execution_count": 19,
   "id": "f1c3b813",
   "metadata": {
    "execution": {
     "iopub.execute_input": "2025-07-31T10:18:22.990349Z",
     "iopub.status.busy": "2025-07-31T10:18:22.989931Z",
     "iopub.status.idle": "2025-07-31T10:18:22.999771Z",
     "shell.execute_reply": "2025-07-31T10:18:22.998744Z"
    },
    "papermill": {
     "duration": 0.020568,
     "end_time": "2025-07-31T10:18:23.001499",
     "exception": false,
     "start_time": "2025-07-31T10:18:22.980931",
     "status": "completed"
    },
    "tags": []
   },
   "outputs": [
    {
     "data": {
      "text/plain": [
       "(tensor(0.1586), tensor(0.3021))"
      ]
     },
     "execution_count": 19,
     "metadata": {},
     "output_type": "execute_result"
    }
   ],
   "source": [
    "l_mae = F.l1_loss(rand_3.float(),mean7)\n",
    "l_rmse = F.mse_loss(rand_3,mean7).sqrt()\n",
    "\n",
    "l_mae, l_rmse"
   ]
  },
  {
   "cell_type": "markdown",
   "id": "0fae218d",
   "metadata": {
    "papermill": {
     "duration": 0.007605,
     "end_time": "2025-07-31T10:18:23.017174",
     "exception": false,
     "start_time": "2025-07-31T10:18:23.009569",
     "status": "completed"
    },
    "tags": []
   },
   "source": [
    "Using validation data for cross checking"
   ]
  },
  {
   "cell_type": "code",
   "execution_count": 20,
   "id": "3ddeba4a",
   "metadata": {
    "execution": {
     "iopub.execute_input": "2025-07-31T10:18:23.035298Z",
     "iopub.status.busy": "2025-07-31T10:18:23.034358Z",
     "iopub.status.idle": "2025-07-31T10:18:23.362783Z",
     "shell.execute_reply": "2025-07-31T10:18:23.361703Z"
    },
    "papermill": {
     "duration": 0.33949,
     "end_time": "2025-07-31T10:18:23.364599",
     "exception": false,
     "start_time": "2025-07-31T10:18:23.025109",
     "status": "completed"
    },
    "tags": []
   },
   "outputs": [
    {
     "data": {
      "text/plain": [
       "(torch.Size([1010, 28, 28]), torch.Size([1028, 28, 28]))"
      ]
     },
     "execution_count": 20,
     "metadata": {},
     "output_type": "execute_result"
    }
   ],
   "source": [
    "valid_3_tens = torch.stack([tensor(Image.open(o)) for o in (path/'valid'/'3').ls()])\n",
    "valid_3_tens = valid_3_tens.float()/255\n",
    "\n",
    "valid_7_tens = torch.stack([tensor(Image.open(o)) for o in (path/'valid'/'7').ls()])\n",
    "valid_7_tens = valid_7_tens.float()/255\n",
    "\n",
    "valid_3_tens.shape,valid_7_tens.shape"
   ]
  },
  {
   "cell_type": "markdown",
   "id": "4c0935d3",
   "metadata": {
    "papermill": {
     "duration": 0.00793,
     "end_time": "2025-07-31T10:18:23.380792",
     "exception": false,
     "start_time": "2025-07-31T10:18:23.372862",
     "status": "completed"
    },
    "tags": []
   },
   "source": [
    "Defining a function to determine MAE\n",
    "\n",
    "In the function .mean(-1, -2), the argument (-1, -2) defines the dimensions along which the mean will be computed\n",
    "\n",
    "Since the tensors are of the shape (n, 28, 28), i.e., n images(files) of dimension 28*28, it is asking to determine the mean along those dimension"
   ]
  },
  {
   "cell_type": "code",
   "execution_count": 21,
   "id": "b6daf227",
   "metadata": {
    "execution": {
     "iopub.execute_input": "2025-07-31T10:18:23.398671Z",
     "iopub.status.busy": "2025-07-31T10:18:23.398320Z",
     "iopub.status.idle": "2025-07-31T10:18:23.405757Z",
     "shell.execute_reply": "2025-07-31T10:18:23.404824Z"
    },
    "papermill": {
     "duration": 0.018517,
     "end_time": "2025-07-31T10:18:23.407363",
     "exception": false,
     "start_time": "2025-07-31T10:18:23.388846",
     "status": "completed"
    },
    "tags": []
   },
   "outputs": [
    {
     "data": {
      "text/plain": [
       "tensor(0.1114)"
      ]
     },
     "execution_count": 21,
     "metadata": {},
     "output_type": "execute_result"
    }
   ],
   "source": [
    "#Defining a function to determine MAE\n",
    "\n",
    "def MAE_calc(a,b): return (a-b).abs().mean((-1,-2))\n",
    "\n",
    "MAE_calc(rand_3, mean3) #same as dist_3_abs"
   ]
  },
  {
   "cell_type": "code",
   "execution_count": 22,
   "id": "a27d3f81",
   "metadata": {
    "execution": {
     "iopub.execute_input": "2025-07-31T10:18:23.425753Z",
     "iopub.status.busy": "2025-07-31T10:18:23.424802Z",
     "iopub.status.idle": "2025-07-31T10:18:23.434122Z",
     "shell.execute_reply": "2025-07-31T10:18:23.433171Z"
    },
    "papermill": {
     "duration": 0.020036,
     "end_time": "2025-07-31T10:18:23.435795",
     "exception": false,
     "start_time": "2025-07-31T10:18:23.415759",
     "status": "completed"
    },
    "tags": []
   },
   "outputs": [
    {
     "data": {
      "text/plain": [
       "(tensor([0.1270, 0.1632, 0.1676,  ..., 0.1228, 0.1210, 0.1287]),\n",
       " torch.Size([1010]))"
      ]
     },
     "execution_count": 22,
     "metadata": {},
     "output_type": "execute_result"
    }
   ],
   "source": [
    "#Determing MAE across validation set\n",
    "\n",
    "valid_3_mae = MAE_calc(valid_3_tens, mean3)\n",
    "valid_3_mae, valid_3_mae.shape"
   ]
  },
  {
   "cell_type": "code",
   "execution_count": 23,
   "id": "ed0af346",
   "metadata": {
    "execution": {
     "iopub.execute_input": "2025-07-31T10:18:23.524185Z",
     "iopub.status.busy": "2025-07-31T10:18:23.523862Z",
     "iopub.status.idle": "2025-07-31T10:18:23.528693Z",
     "shell.execute_reply": "2025-07-31T10:18:23.527566Z"
    },
    "papermill": {
     "duration": 0.086227,
     "end_time": "2025-07-31T10:18:23.530654",
     "exception": false,
     "start_time": "2025-07-31T10:18:23.444427",
     "status": "completed"
    },
    "tags": []
   },
   "outputs": [],
   "source": [
    "#Defining a Boolean to state 3 or 7\n",
    "\n",
    "def is_3(x): return MAE_calc(x,mean3) < MAE_calc(x,mean7)"
   ]
  },
  {
   "cell_type": "code",
   "execution_count": 24,
   "id": "67ca2078",
   "metadata": {
    "execution": {
     "iopub.execute_input": "2025-07-31T10:18:23.550043Z",
     "iopub.status.busy": "2025-07-31T10:18:23.549730Z",
     "iopub.status.idle": "2025-07-31T10:18:23.557539Z",
     "shell.execute_reply": "2025-07-31T10:18:23.556578Z"
    },
    "papermill": {
     "duration": 0.018637,
     "end_time": "2025-07-31T10:18:23.559011",
     "exception": false,
     "start_time": "2025-07-31T10:18:23.540374",
     "status": "completed"
    },
    "tags": []
   },
   "outputs": [
    {
     "data": {
      "text/plain": [
       "(tensor(True), tensor(1.))"
      ]
     },
     "execution_count": 24,
     "metadata": {},
     "output_type": "execute_result"
    }
   ],
   "source": [
    "is_3(rand_3), is_3(rand_3).float()"
   ]
  },
  {
   "cell_type": "code",
   "execution_count": 25,
   "id": "63f657a1",
   "metadata": {
    "execution": {
     "iopub.execute_input": "2025-07-31T10:18:23.577580Z",
     "iopub.status.busy": "2025-07-31T10:18:23.577199Z",
     "iopub.status.idle": "2025-07-31T10:18:23.589479Z",
     "shell.execute_reply": "2025-07-31T10:18:23.588595Z"
    },
    "papermill": {
     "duration": 0.023921,
     "end_time": "2025-07-31T10:18:23.591485",
     "exception": false,
     "start_time": "2025-07-31T10:18:23.567564",
     "status": "completed"
    },
    "tags": []
   },
   "outputs": [
    {
     "data": {
      "text/plain": [
       "(tensor([ True, False, False,  ...,  True,  True, False]),\n",
       " tensor([1., 0., 0.,  ..., 1., 1., 0.]))"
      ]
     },
     "execution_count": 25,
     "metadata": {},
     "output_type": "execute_result"
    }
   ],
   "source": [
    "is_3(valid_3_tens), is_3(valid_3_tens).float()"
   ]
  },
  {
   "cell_type": "code",
   "execution_count": 26,
   "id": "df320cc0",
   "metadata": {
    "execution": {
     "iopub.execute_input": "2025-07-31T10:18:23.610447Z",
     "iopub.status.busy": "2025-07-31T10:18:23.609914Z",
     "iopub.status.idle": "2025-07-31T10:18:23.623003Z",
     "shell.execute_reply": "2025-07-31T10:18:23.622080Z"
    },
    "papermill": {
     "duration": 0.024394,
     "end_time": "2025-07-31T10:18:23.624756",
     "exception": false,
     "start_time": "2025-07-31T10:18:23.600362",
     "status": "completed"
    },
    "tags": []
   },
   "outputs": [
    {
     "data": {
      "text/plain": [
       "(tensor(0.9168), tensor(0.9854), tensor(0.9511))"
      ]
     },
     "execution_count": 26,
     "metadata": {},
     "output_type": "execute_result"
    }
   ],
   "source": [
    "accuracy_3s = is_3(valid_3_tens).float().mean()\n",
    "\n",
    "accuracy_7s = (1 - is_3(valid_7_tens).float()).mean()\n",
    "\n",
    "accuracy_3s,accuracy_7s,(accuracy_3s+accuracy_7s)/2"
   ]
  }
 ],
 "metadata": {
  "kaggle": {
   "accelerator": "none",
   "dataSources": [],
   "dockerImageVersionId": 31089,
   "isGpuEnabled": false,
   "isInternetEnabled": true,
   "language": "python",
   "sourceType": "notebook"
  },
  "kernelspec": {
   "display_name": "Python 3",
   "language": "python",
   "name": "python3"
  },
  "language_info": {
   "codemirror_mode": {
    "name": "ipython",
    "version": 3
   },
   "file_extension": ".py",
   "mimetype": "text/x-python",
   "name": "python",
   "nbconvert_exporter": "python",
   "pygments_lexer": "ipython3",
   "version": "3.11.13"
  },
  "papermill": {
   "default_parameters": {},
   "duration": 37.263334,
   "end_time": "2025-07-31T10:18:26.655493",
   "environment_variables": {},
   "exception": null,
   "input_path": "__notebook__.ipynb",
   "output_path": "__notebook__.ipynb",
   "parameters": {},
   "start_time": "2025-07-31T10:17:49.392159",
   "version": "2.6.0"
  }
 },
 "nbformat": 4,
 "nbformat_minor": 5
}
